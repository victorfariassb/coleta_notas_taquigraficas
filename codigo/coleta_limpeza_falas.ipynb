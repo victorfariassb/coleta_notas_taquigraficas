{
  "nbformat": 4,
  "nbformat_minor": 0,
  "metadata": {
    "colab": {
      "name": "coleta_limpeza_falas.ipynb",
      "provenance": []
    },
    "kernelspec": {
      "name": "python3",
      "display_name": "Python 3"
    },
    "language_info": {
      "name": "python"
    }
  },
  "cells": [
    {
      "cell_type": "code",
      "metadata": {
        "id": "wcersTDzThUm"
      },
      "source": [
        "import requests\n",
        "import pandas as pd"
      ],
      "execution_count": null,
      "outputs": []
    },
    {
      "cell_type": "code",
      "metadata": {
        "id": "njSddUnTS5AC"
      },
      "source": [
        "autor_fala = []\n,
        "fala = []\n",
        "\n",
        "def coleta_notas(dado2):\n",
        "  for link in dados2:\n",
        "    url3 = link\n",
        "    resposta3 = requests.get(url3)\n",
        "    html3 = resposta3.text\n",
        "    texto3 = html3.replace('</span></div></div><div><div class=\"principalStyle\">', '')\n",
        "    texto3 = texto3.replace('</span></div><div class=\"principalStyle\"><span>', '')\n",
        "    texto3 = texto3.replace('</span><span class=\"intercorrenciaMesmoSegmentoStyle\">', '')\n",
        "    texto3 = texto3.replace('</span><span class=\"principalStyle\">', '')\n",
        "    texto3 = texto3.replace('</span></div></div><div><div class=\"anotacaoAberturaStyle\"><span>(<i>S', '')\n",
        "    texto3 = texto3.replace('</span></div></div><div><div class=\"intercorrenciaCentralizadoStyle\"><span>(<i>Tumulto no recinto.</i>)', '') \n",
        "    texto3 = texto3.replace('</span></div></div><div><div class=\"intercorrenciaCentralizadoStyle\"><span>(<i>Soa a campainha.</i>)', '') \n",
        "    texto3 = texto3.replace('(<i>Pausa.</i>) <span', '')\n",
        "    texto3 = texto3.replace('</span></div></div><div><div class=\"intercorrenciaCentralizadoStyle\"><span>(<i>Interrupção do som.</i>) (<i>Pausa.</i>)','')\n",
        "    texto3 = texto3.replace('O SR.','')\n",
        "    texto3 = texto3.replace('A SRA.','')\n",
        "    texto3 = texto3.replace('</b>','')\n",
        "    texto3 = texto3.replace('(<i>Risos.</i>)','')\n",
        "    texto3 = texto3.replace('<span>', '')\n",
        "    texto3 = texto3.replace('</span></div></div><div><div class=\"anotacaoOcorrenciaStyle\"><span>(<i>Procede-se à exibição de vídeo.</i>)', '')\n",
        "    partes3 = texto3.split('<b>')\n",
        "    for item in partes3[1:]:\n",
        "      partes4 = item.split(') – ')\n",
        "      if len(partes4) > 1:\n",
        "        autor_fala.append(partes4)\n,
        "        fala.append(partes4[1])\n",
        "\n",
        "coleta_notas(lista2)"
      ],
      "execution_count": null,
      "outputs": []
    },
    {
      "cell_type": "code",
      "metadata": {
        "id": "YuxuokCsS80S"
      },
      "source": [
        "df = pd.DataFrame(fala, columns=[\"autor\", 'fala', 'outra'])\n",
        "#dados = df.to_csv('cpi.csv')"
      ],
      "execution_count": null,
      "outputs": []
    }
  ]
}
