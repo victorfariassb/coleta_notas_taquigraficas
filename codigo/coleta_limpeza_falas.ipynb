autor_fala = []
fala = []

def coleta_notas(dado2):
  for link in dado2:
    url3 = link
    resposta3 = requests.get(url3)
    html3 = resposta3.text
    texto3 = html3.replace('</span></div></div><div><div class="principalStyle">', '')
    texto3 = texto3.replace('</span></div><div class="principalStyle"><span>', '')
    texto3 = texto3.replace('</span><span class="intercorrenciaMesmoSegmentoStyle">', '')
    texto3 = texto3.replace('</span><span class="principalStyle">', '')
    texto3 = texto3.replace('</span></div></div><div><div class="anotacaoAberturaStyle"><span>(<i>S', '')
    texto3 = texto3.replace('</span></div></div><div><div class="intercorrenciaCentralizadoStyle"><span>(<i>Tumulto no recinto.</i>)', '') 
    texto3 = texto3.replace('</span></div></div><div><div class="intercorrenciaCentralizadoStyle"><span>(<i>Soa a campainha.</i>)', '') 
    texto3 = texto3.replace('(<i>Pausa.</i>) <span', '')
    texto3 = texto3.replace('</span></div></div><div><div class="intercorrenciaCentralizadoStyle"><span>(<i>Interrupção do som.</i>) (<i>Pausa.</i>)','')
    texto3 = texto3.replace('O SR.','')
    texto3 = texto3.replace('A SRA.','')
    texto3 = texto3.replace('</b>','')
    texto3 = texto3.replace('(<i>Risos.</i>)','')
    texto3 = texto3.replace('<span>', '')
    texto3 = texto3.replace('</span></div></div><div><div class="anotacaoOcorrenciaStyle"><span>(<i>Procede-se à exibição de vídeo.</i>)', '')
    partes3 = texto3.split('<b>')
    for item in partes3[1:]:
      partes4 = item.split(') – ')
      if len(partes4) > 1:
        autor_fala.append(partes4)
        fala.append(partes4[1])
