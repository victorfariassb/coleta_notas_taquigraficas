{
  "nbformat": 4,
  "nbformat_minor": 0,
  "metadata": {
    "colab": {
      "name": "coleta_sites_notas.ipynb",
      "provenance": []
    },
    "kernelspec": {
      "name": "python3",
      "display_name": "Python 3"
    },
    "language_info": {
      "name": "python"
    }
  },
  "cells": [
    {
      "cell_type": "code",
      "metadata": {
        "id": "vSaw5LrqRtrK"
      },
      "source": [
        "import requests"
      ],
      "execution_count": null,
      "outputs": []
    },
    {
      "cell_type": "code",
      "metadata": {
        "id": "ZEN-es9wRuPo"
      },
      "source": [
        "lista2 = []\n",
        "\n",
        "def coleta_notas(dados):\n",
        "  for codigo in dados:\n",
        "    url2 = \"https://legis.senado.leg.br/dadosabertos/reuniaocomissao/notas/\" + str(codigo)\n",
        "    resposta2 = requests.get(url2)\n",
        "    html2 = resposta2.text\n",
        "    parte = []\n",
        "    partes2 = html2.split('<UrlNotasTaquigraficas>')\n",
        "    if len(partes2) > 1:\n",
        "      partes2 = partes2[1]\n",
        "      subpartes2 = partes2.split('</UrlNotasTaquigraficas>')\n",
        "      lista2.append(subpartes2[0])\n",
        "    else:\n",
        "      continue\n",
        "\n",
        "coleta_notas()"
      ],
      "execution_count": null,
      "outputs": []
    }
  ]
}