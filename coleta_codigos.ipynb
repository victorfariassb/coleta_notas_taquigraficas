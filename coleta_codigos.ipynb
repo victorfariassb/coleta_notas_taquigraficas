{
  "nbformat": 4,
  "nbformat_minor": 0,
  "metadata": {
    "colab": {
      "name": "coleta_codigos.ipynb",
      "provenance": []
    },
    "kernelspec": {
      "name": "python3",
      "display_name": "Python 3"
    },
    "language_info": {
      "name": "python"
    }
  },
  "cells": [
    {
      "cell_type": "code",
      "metadata": {
        "id": "Q-rwHc0aP1BT"
      },
      "source": [
        "import requests"
      ],
      "execution_count": null,
      "outputs": []
    },
    {
      "cell_type": "code",
      "metadata": {
        "id": "gbM9OhfTPyfs"
      },
      "source": [
        "url = \"https://legis.senado.leg.br/comissoes/comissao?codcol=2441&data1=2021-01-01&data2=2021-10-21\"\n",
        "resposta = requests.get(url)\n",
        "html = resposta.text\n",
        "print(html)"
      ],
      "execution_count": null,
      "outputs": []
    },
    {
      "cell_type": "code",
      "metadata": {
        "id": "UthmMslgP4xY"
      },
      "source": [
        "lista = []\n",
        "partes = html.split('<a href=\"./reuniao?reuniao=')\n",
        "\n",
        "def coleta_dados():\n",
        "  for parte in partes:\n",
        "    subpartes = parte.split('&amp;codcol=2441\">')\n",
        "    conteudo = subpartes[0]\n",
        "    if len(conteudo) > 10:\n",
        "      continue \n",
        "    if conteudo not in lista:\n",
        "      lista.append(conteudo)\n",
        "  print(lista)\n",
        "\n",
        "coleta_dados()"
      ],
      "execution_count": null,
      "outputs": []
    }
  ]
}